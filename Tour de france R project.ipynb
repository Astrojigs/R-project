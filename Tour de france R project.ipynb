{
 "cells": [
  {
   "cell_type": "code",
   "execution_count": 12,
   "metadata": {},
   "outputs": [],
   "source": [
    "import numpy as np\n",
    "import matplotlib.pyplot as plt\n",
    "import pandas as pd"
   ]
  },
  {
   "cell_type": "code",
   "execution_count": 3,
   "metadata": {},
   "outputs": [],
   "source": [
    "import seaborn as sns"
   ]
  },
  {
   "cell_type": "markdown",
   "metadata": {},
   "source": [
    "# Import the 3 datasets."
   ]
  },
  {
   "cell_type": "markdown",
   "metadata": {},
   "source": [
    "## tdf_stages"
   ]
  },
  {
   "cell_type": "code",
   "execution_count": 237,
   "metadata": {},
   "outputs": [
    {
     "data": {
      "text/html": [
       "<div>\n",
       "<style scoped>\n",
       "    .dataframe tbody tr th:only-of-type {\n",
       "        vertical-align: middle;\n",
       "    }\n",
       "\n",
       "    .dataframe tbody tr th {\n",
       "        vertical-align: top;\n",
       "    }\n",
       "\n",
       "    .dataframe thead th {\n",
       "        text-align: right;\n",
       "    }\n",
       "</style>\n",
       "<table border=\"1\" class=\"dataframe\">\n",
       "  <thead>\n",
       "    <tr style=\"text-align: right;\">\n",
       "      <th></th>\n",
       "      <th>Stage</th>\n",
       "      <th>Date</th>\n",
       "      <th>Distance</th>\n",
       "      <th>Origin</th>\n",
       "      <th>Destination</th>\n",
       "      <th>Type</th>\n",
       "      <th>Winner</th>\n",
       "      <th>Winner_Country</th>\n",
       "    </tr>\n",
       "  </thead>\n",
       "  <tbody>\n",
       "    <tr>\n",
       "      <th>0</th>\n",
       "      <td>1</td>\n",
       "      <td>2017-07-01</td>\n",
       "      <td>14.0</td>\n",
       "      <td>Düsseldorf</td>\n",
       "      <td>Düsseldorf</td>\n",
       "      <td>Individual time trial</td>\n",
       "      <td>Geraint Thomas</td>\n",
       "      <td>GBR</td>\n",
       "    </tr>\n",
       "    <tr>\n",
       "      <th>1</th>\n",
       "      <td>2</td>\n",
       "      <td>2017-07-02</td>\n",
       "      <td>203.5</td>\n",
       "      <td>Düsseldorf</td>\n",
       "      <td>Liège</td>\n",
       "      <td>Flat stage</td>\n",
       "      <td>Marcel Kittel</td>\n",
       "      <td>GER</td>\n",
       "    </tr>\n",
       "    <tr>\n",
       "      <th>2</th>\n",
       "      <td>3</td>\n",
       "      <td>2017-07-03</td>\n",
       "      <td>212.5</td>\n",
       "      <td>Verviers</td>\n",
       "      <td>Longwy</td>\n",
       "      <td>Medium mountain stage</td>\n",
       "      <td>Peter Sagan</td>\n",
       "      <td>SVK</td>\n",
       "    </tr>\n",
       "  </tbody>\n",
       "</table>\n",
       "</div>"
      ],
      "text/plain": [
       "  Stage        Date  Distance      Origin Destination                   Type  \\\n",
       "0     1  2017-07-01      14.0  Düsseldorf  Düsseldorf  Individual time trial   \n",
       "1     2  2017-07-02     203.5  Düsseldorf       Liège             Flat stage   \n",
       "2     3  2017-07-03     212.5    Verviers      Longwy  Medium mountain stage   \n",
       "\n",
       "           Winner Winner_Country  \n",
       "0  Geraint Thomas            GBR  \n",
       "1   Marcel Kittel            GER  \n",
       "2     Peter Sagan            SVK  "
      ]
     },
     "execution_count": 237,
     "metadata": {},
     "output_type": "execute_result"
    }
   ],
   "source": [
    "tdf_stages = pd.read_csv('https://raw.githubusercontent.com/rfordatascience/tidytuesday/master/data/2020/2020-04-07/tdf_stages.csv')\n",
    "\n",
    "tdf_stages.head(3)"
   ]
  },
  {
   "cell_type": "markdown",
   "metadata": {},
   "source": [
    "Length of tdf_stages:"
   ]
  },
  {
   "cell_type": "code",
   "execution_count": 238,
   "metadata": {},
   "outputs": [
    {
     "data": {
      "text/plain": [
       "2236"
      ]
     },
     "execution_count": 238,
     "metadata": {},
     "output_type": "execute_result"
    }
   ],
   "source": [
    "len(tdf_stages)"
   ]
  },
  {
   "cell_type": "markdown",
   "metadata": {},
   "source": [
    "## stage_data"
   ]
  },
  {
   "cell_type": "code",
   "execution_count": 239,
   "metadata": {},
   "outputs": [
    {
     "data": {
      "text/html": [
       "<div>\n",
       "<style scoped>\n",
       "    .dataframe tbody tr th:only-of-type {\n",
       "        vertical-align: middle;\n",
       "    }\n",
       "\n",
       "    .dataframe tbody tr th {\n",
       "        vertical-align: top;\n",
       "    }\n",
       "\n",
       "    .dataframe thead th {\n",
       "        text-align: right;\n",
       "    }\n",
       "</style>\n",
       "<table border=\"1\" class=\"dataframe\">\n",
       "  <thead>\n",
       "    <tr style=\"text-align: right;\">\n",
       "      <th></th>\n",
       "      <th>edition</th>\n",
       "      <th>year</th>\n",
       "      <th>stage_results_id</th>\n",
       "      <th>rank</th>\n",
       "      <th>time</th>\n",
       "      <th>rider</th>\n",
       "      <th>age</th>\n",
       "      <th>team</th>\n",
       "      <th>points</th>\n",
       "      <th>elapsed</th>\n",
       "      <th>bib_number</th>\n",
       "    </tr>\n",
       "  </thead>\n",
       "  <tbody>\n",
       "    <tr>\n",
       "      <th>0</th>\n",
       "      <td>1</td>\n",
       "      <td>1903</td>\n",
       "      <td>stage-1</td>\n",
       "      <td>1</td>\n",
       "      <td>13S</td>\n",
       "      <td>Garin Maurice</td>\n",
       "      <td>32.0</td>\n",
       "      <td>NaN</td>\n",
       "      <td>100.0</td>\n",
       "      <td>13S</td>\n",
       "      <td>NaN</td>\n",
       "    </tr>\n",
       "    <tr>\n",
       "      <th>1</th>\n",
       "      <td>1</td>\n",
       "      <td>1903</td>\n",
       "      <td>stage-1</td>\n",
       "      <td>2</td>\n",
       "      <td>55S</td>\n",
       "      <td>Pagie Émile</td>\n",
       "      <td>32.0</td>\n",
       "      <td>NaN</td>\n",
       "      <td>70.0</td>\n",
       "      <td>8S</td>\n",
       "      <td>NaN</td>\n",
       "    </tr>\n",
       "    <tr>\n",
       "      <th>2</th>\n",
       "      <td>1</td>\n",
       "      <td>1903</td>\n",
       "      <td>stage-1</td>\n",
       "      <td>3</td>\n",
       "      <td>59S</td>\n",
       "      <td>Georget Léon</td>\n",
       "      <td>23.0</td>\n",
       "      <td>NaN</td>\n",
       "      <td>50.0</td>\n",
       "      <td>12S</td>\n",
       "      <td>NaN</td>\n",
       "    </tr>\n",
       "  </tbody>\n",
       "</table>\n",
       "</div>"
      ],
      "text/plain": [
       "   edition  year stage_results_id rank time          rider   age team  points  \\\n",
       "0        1  1903          stage-1    1  13S  Garin Maurice  32.0  NaN   100.0   \n",
       "1        1  1903          stage-1    2  55S    Pagie Émile  32.0  NaN    70.0   \n",
       "2        1  1903          stage-1    3  59S   Georget Léon  23.0  NaN    50.0   \n",
       "\n",
       "  elapsed  bib_number  \n",
       "0     13S         NaN  \n",
       "1      8S         NaN  \n",
       "2     12S         NaN  "
      ]
     },
     "execution_count": 239,
     "metadata": {},
     "output_type": "execute_result"
    }
   ],
   "source": [
    "stage_data = pd.read_csv('https://raw.githubusercontent.com/rfordatascience/tidytuesday/master/data/2020/2020-04-07/stage_data.csv')\n",
    "stage_data.head(3)"
   ]
  },
  {
   "cell_type": "markdown",
   "metadata": {},
   "source": [
    "Length of stage_data:"
   ]
  },
  {
   "cell_type": "code",
   "execution_count": 240,
   "metadata": {},
   "outputs": [
    {
     "data": {
      "text/plain": [
       "255752"
      ]
     },
     "execution_count": 240,
     "metadata": {},
     "output_type": "execute_result"
    }
   ],
   "source": [
    "len(stage_data)"
   ]
  },
  {
   "cell_type": "markdown",
   "metadata": {},
   "source": [
    "## tdf_winners"
   ]
  },
  {
   "cell_type": "code",
   "execution_count": 241,
   "metadata": {},
   "outputs": [
    {
     "data": {
      "text/html": [
       "<div>\n",
       "<style scoped>\n",
       "    .dataframe tbody tr th:only-of-type {\n",
       "        vertical-align: middle;\n",
       "    }\n",
       "\n",
       "    .dataframe tbody tr th {\n",
       "        vertical-align: top;\n",
       "    }\n",
       "\n",
       "    .dataframe thead th {\n",
       "        text-align: right;\n",
       "    }\n",
       "</style>\n",
       "<table border=\"1\" class=\"dataframe\">\n",
       "  <thead>\n",
       "    <tr style=\"text-align: right;\">\n",
       "      <th></th>\n",
       "      <th>edition</th>\n",
       "      <th>start_date</th>\n",
       "      <th>winner_name</th>\n",
       "      <th>winner_team</th>\n",
       "      <th>distance</th>\n",
       "      <th>time_overall</th>\n",
       "      <th>time_margin</th>\n",
       "      <th>stage_wins</th>\n",
       "      <th>stages_led</th>\n",
       "      <th>height</th>\n",
       "      <th>weight</th>\n",
       "      <th>age</th>\n",
       "      <th>born</th>\n",
       "      <th>died</th>\n",
       "      <th>full_name</th>\n",
       "      <th>nickname</th>\n",
       "      <th>birth_town</th>\n",
       "      <th>birth_country</th>\n",
       "      <th>nationality</th>\n",
       "    </tr>\n",
       "  </thead>\n",
       "  <tbody>\n",
       "    <tr>\n",
       "      <th>0</th>\n",
       "      <td>1</td>\n",
       "      <td>1903-07-01</td>\n",
       "      <td>Maurice Garin</td>\n",
       "      <td>La Française</td>\n",
       "      <td>2428.0</td>\n",
       "      <td>94.553889</td>\n",
       "      <td>2.989167</td>\n",
       "      <td>3</td>\n",
       "      <td>6</td>\n",
       "      <td>1.62</td>\n",
       "      <td>60.0</td>\n",
       "      <td>32</td>\n",
       "      <td>1871-03-03</td>\n",
       "      <td>1957-02-19</td>\n",
       "      <td>NaN</td>\n",
       "      <td>The Little Chimney-sweep</td>\n",
       "      <td>Arvier</td>\n",
       "      <td>Italy</td>\n",
       "      <td>France</td>\n",
       "    </tr>\n",
       "    <tr>\n",
       "      <th>1</th>\n",
       "      <td>2</td>\n",
       "      <td>1904-07-02</td>\n",
       "      <td>Henri Cornet</td>\n",
       "      <td>Conte</td>\n",
       "      <td>2428.0</td>\n",
       "      <td>96.098611</td>\n",
       "      <td>2.270556</td>\n",
       "      <td>1</td>\n",
       "      <td>3</td>\n",
       "      <td>NaN</td>\n",
       "      <td>NaN</td>\n",
       "      <td>19</td>\n",
       "      <td>1884-08-04</td>\n",
       "      <td>1941-03-18</td>\n",
       "      <td>NaN</td>\n",
       "      <td>Le rigolo (The joker)</td>\n",
       "      <td>Desvres</td>\n",
       "      <td>France</td>\n",
       "      <td>France</td>\n",
       "    </tr>\n",
       "    <tr>\n",
       "      <th>2</th>\n",
       "      <td>3</td>\n",
       "      <td>1905-07-09</td>\n",
       "      <td>Louis Trousselier</td>\n",
       "      <td>Peugeot–Wolber</td>\n",
       "      <td>2994.0</td>\n",
       "      <td>NaN</td>\n",
       "      <td>NaN</td>\n",
       "      <td>5</td>\n",
       "      <td>10</td>\n",
       "      <td>NaN</td>\n",
       "      <td>NaN</td>\n",
       "      <td>24</td>\n",
       "      <td>1881-06-29</td>\n",
       "      <td>1939-04-24</td>\n",
       "      <td>NaN</td>\n",
       "      <td>Levaloy / Trou-trou</td>\n",
       "      <td>Paris</td>\n",
       "      <td>France</td>\n",
       "      <td>France</td>\n",
       "    </tr>\n",
       "  </tbody>\n",
       "</table>\n",
       "</div>"
      ],
      "text/plain": [
       "   edition  start_date        winner_name     winner_team  distance  \\\n",
       "0        1  1903-07-01      Maurice Garin    La Française    2428.0   \n",
       "1        2  1904-07-02       Henri Cornet           Conte    2428.0   \n",
       "2        3  1905-07-09  Louis Trousselier  Peugeot–Wolber    2994.0   \n",
       "\n",
       "   time_overall  time_margin  stage_wins  stages_led  height  weight  age  \\\n",
       "0     94.553889     2.989167           3           6    1.62    60.0   32   \n",
       "1     96.098611     2.270556           1           3     NaN     NaN   19   \n",
       "2           NaN          NaN           5          10     NaN     NaN   24   \n",
       "\n",
       "         born        died full_name                  nickname birth_town  \\\n",
       "0  1871-03-03  1957-02-19       NaN  The Little Chimney-sweep     Arvier   \n",
       "1  1884-08-04  1941-03-18       NaN     Le rigolo (The joker)    Desvres   \n",
       "2  1881-06-29  1939-04-24       NaN       Levaloy / Trou-trou      Paris   \n",
       "\n",
       "  birth_country nationality  \n",
       "0         Italy      France  \n",
       "1        France      France  \n",
       "2        France      France  "
      ]
     },
     "execution_count": 241,
     "metadata": {},
     "output_type": "execute_result"
    }
   ],
   "source": [
    "tdf_winners = pd.read_csv('https://raw.githubusercontent.com/rfordatascience/tidytuesday/master/data/2020/2020-04-07/tdf_winners.csv')\n",
    "tdf_winners.head(3)"
   ]
  },
  {
   "cell_type": "markdown",
   "metadata": {},
   "source": [
    "Length of tdf_winners"
   ]
  },
  {
   "cell_type": "code",
   "execution_count": 242,
   "metadata": {},
   "outputs": [
    {
     "data": {
      "text/plain": [
       "106"
      ]
     },
     "execution_count": 242,
     "metadata": {},
     "output_type": "execute_result"
    }
   ],
   "source": [
    "len(tdf_winners)"
   ]
  },
  {
   "cell_type": "markdown",
   "metadata": {},
   "source": [
    "Since the data is now loaded, we can start cleaning the data:\n",
    "\n",
    "# Cleaning the data:\n"
   ]
  },
  {
   "cell_type": "markdown",
   "metadata": {},
   "source": [
    "**Note:** If less than <u>5% of the data consists of null values, we can omit the respective rows</u>. <br> We can use other alternatives otherwise."
   ]
  },
  {
   "cell_type": "markdown",
   "metadata": {},
   "source": [
    "### Looking at individual dataset:"
   ]
  },
  {
   "cell_type": "markdown",
   "metadata": {},
   "source": [
    "### Cleaning tdf_stages"
   ]
  },
  {
   "cell_type": "markdown",
   "metadata": {},
   "source": [
    "Rows with missing values (**Detecting NaN**)"
   ]
  },
  {
   "cell_type": "code",
   "execution_count": 505,
   "metadata": {},
   "outputs": [
    {
     "data": {
      "text/html": [
       "<div>\n",
       "<style scoped>\n",
       "    .dataframe tbody tr th:only-of-type {\n",
       "        vertical-align: middle;\n",
       "    }\n",
       "\n",
       "    .dataframe tbody tr th {\n",
       "        vertical-align: top;\n",
       "    }\n",
       "\n",
       "    .dataframe thead th {\n",
       "        text-align: right;\n",
       "    }\n",
       "</style>\n",
       "<table border=\"1\" class=\"dataframe\">\n",
       "  <thead>\n",
       "    <tr style=\"text-align: right;\">\n",
       "      <th></th>\n",
       "      <th>Stage</th>\n",
       "      <th>Date</th>\n",
       "      <th>Distance</th>\n",
       "      <th>Origin</th>\n",
       "      <th>Destination</th>\n",
       "      <th>Type</th>\n",
       "      <th>Winner</th>\n",
       "      <th>Winner_Country</th>\n",
       "    </tr>\n",
       "  </thead>\n",
       "  <tbody>\n",
       "  </tbody>\n",
       "</table>\n",
       "</div>"
      ],
      "text/plain": [
       "Empty DataFrame\n",
       "Columns: [Stage, Date, Distance, Origin, Destination, Type, Winner, Winner_Country]\n",
       "Index: []"
      ]
     },
     "execution_count": 505,
     "metadata": {},
     "output_type": "execute_result"
    }
   ],
   "source": [
    "tdf_stages[tdf_stages.isna().any(axis=1)]"
   ]
  },
  {
   "cell_type": "markdown",
   "metadata": {},
   "source": [
    "Number of rows with missing data from *tdf_stages*:"
   ]
  },
  {
   "cell_type": "code",
   "execution_count": 244,
   "metadata": {},
   "outputs": [
    {
     "data": {
      "text/plain": [
       "52"
      ]
     },
     "execution_count": 244,
     "metadata": {},
     "output_type": "execute_result"
    }
   ],
   "source": [
    "len(tdf_stages[tdf_stages.isna().any(axis=1)])"
   ]
  },
  {
   "cell_type": "markdown",
   "metadata": {},
   "source": [
    "**Percentage of rows with missing values.**"
   ]
  },
  {
   "cell_type": "code",
   "execution_count": 245,
   "metadata": {},
   "outputs": [
    {
     "name": "stdout",
     "output_type": "stream",
     "text": [
      "2.33%\n"
     ]
    }
   ],
   "source": [
    "print(f\"{round(len(tdf_stages[tdf_stages.isna().any(axis=1)])/len(tdf_stages),4)*100}%\")"
   ]
  },
  {
   "cell_type": "markdown",
   "metadata": {},
   "source": [
    "Since the percentage is below 5%, we can remove the rows."
   ]
  },
  {
   "cell_type": "code",
   "execution_count": 246,
   "metadata": {},
   "outputs": [],
   "source": [
    "# dropping the rows with null values:\n",
    "tdf_stages=tdf_stages.dropna(axis=0)"
   ]
  },
  {
   "cell_type": "code",
   "execution_count": 247,
   "metadata": {},
   "outputs": [
    {
     "data": {
      "text/plain": [
       "2184"
      ]
     },
     "execution_count": 247,
     "metadata": {},
     "output_type": "execute_result"
    }
   ],
   "source": [
    "len(tdf_stages)"
   ]
  },
  {
   "cell_type": "markdown",
   "metadata": {},
   "source": [
    "We have removed the null rows from the dataset. We can move forward with other dataset."
   ]
  },
  {
   "cell_type": "markdown",
   "metadata": {},
   "source": [
    "### Cleaning stage_data"
   ]
  },
  {
   "cell_type": "code",
   "execution_count": 248,
   "metadata": {},
   "outputs": [
    {
     "data": {
      "text/html": [
       "<div>\n",
       "<style scoped>\n",
       "    .dataframe tbody tr th:only-of-type {\n",
       "        vertical-align: middle;\n",
       "    }\n",
       "\n",
       "    .dataframe tbody tr th {\n",
       "        vertical-align: top;\n",
       "    }\n",
       "\n",
       "    .dataframe thead th {\n",
       "        text-align: right;\n",
       "    }\n",
       "</style>\n",
       "<table border=\"1\" class=\"dataframe\">\n",
       "  <thead>\n",
       "    <tr style=\"text-align: right;\">\n",
       "      <th></th>\n",
       "      <th>edition</th>\n",
       "      <th>year</th>\n",
       "      <th>stage_results_id</th>\n",
       "      <th>rank</th>\n",
       "      <th>time</th>\n",
       "      <th>rider</th>\n",
       "      <th>age</th>\n",
       "      <th>team</th>\n",
       "      <th>points</th>\n",
       "      <th>elapsed</th>\n",
       "      <th>bib_number</th>\n",
       "    </tr>\n",
       "  </thead>\n",
       "  <tbody>\n",
       "    <tr>\n",
       "      <th>0</th>\n",
       "      <td>1</td>\n",
       "      <td>1903</td>\n",
       "      <td>stage-1</td>\n",
       "      <td>1</td>\n",
       "      <td>13S</td>\n",
       "      <td>Garin Maurice</td>\n",
       "      <td>32.0</td>\n",
       "      <td>NaN</td>\n",
       "      <td>100.0</td>\n",
       "      <td>13S</td>\n",
       "      <td>NaN</td>\n",
       "    </tr>\n",
       "    <tr>\n",
       "      <th>1</th>\n",
       "      <td>1</td>\n",
       "      <td>1903</td>\n",
       "      <td>stage-1</td>\n",
       "      <td>2</td>\n",
       "      <td>55S</td>\n",
       "      <td>Pagie Émile</td>\n",
       "      <td>32.0</td>\n",
       "      <td>NaN</td>\n",
       "      <td>70.0</td>\n",
       "      <td>8S</td>\n",
       "      <td>NaN</td>\n",
       "    </tr>\n",
       "    <tr>\n",
       "      <th>2</th>\n",
       "      <td>1</td>\n",
       "      <td>1903</td>\n",
       "      <td>stage-1</td>\n",
       "      <td>3</td>\n",
       "      <td>59S</td>\n",
       "      <td>Georget Léon</td>\n",
       "      <td>23.0</td>\n",
       "      <td>NaN</td>\n",
       "      <td>50.0</td>\n",
       "      <td>12S</td>\n",
       "      <td>NaN</td>\n",
       "    </tr>\n",
       "  </tbody>\n",
       "</table>\n",
       "</div>"
      ],
      "text/plain": [
       "   edition  year stage_results_id rank time          rider   age team  points  \\\n",
       "0        1  1903          stage-1    1  13S  Garin Maurice  32.0  NaN   100.0   \n",
       "1        1  1903          stage-1    2  55S    Pagie Émile  32.0  NaN    70.0   \n",
       "2        1  1903          stage-1    3  59S   Georget Léon  23.0  NaN    50.0   \n",
       "\n",
       "  elapsed  bib_number  \n",
       "0     13S         NaN  \n",
       "1      8S         NaN  \n",
       "2     12S         NaN  "
      ]
     },
     "execution_count": 248,
     "metadata": {},
     "output_type": "execute_result"
    }
   ],
   "source": [
    "stage_data.head(3)"
   ]
  },
  {
   "cell_type": "markdown",
   "metadata": {},
   "source": [
    "Which of these columns contains **Nan** values and how many?"
   ]
  },
  {
   "cell_type": "code",
   "execution_count": 249,
   "metadata": {},
   "outputs": [
    {
     "data": {
      "text/plain": [
       "edition                  0\n",
       "year                     0\n",
       "stage_results_id         0\n",
       "rank                     0\n",
       "time                  5617\n",
       "rider                    0\n",
       "age                   3326\n",
       "team                 24043\n",
       "points              222746\n",
       "elapsed               5617\n",
       "bib_number           23534\n",
       "dtype: int64"
      ]
     },
     "execution_count": 249,
     "metadata": {},
     "output_type": "execute_result"
    }
   ],
   "source": [
    "pd.isnull(stage_data).sum()"
   ]
  },
  {
   "cell_type": "markdown",
   "metadata": {},
   "source": [
    "Let's look at the column '*time*'. It has 5617 null values. <br>\n",
    "We can make the column a numeric type and evaluate the data."
   ]
  },
  {
   "cell_type": "code",
   "execution_count": 250,
   "metadata": {},
   "outputs": [],
   "source": [
    "# applying the regular expression to the column time to remove only the numeric values in the column\n",
    "stage_data['time']=stage_data['time'].str.extract(r'(\\d+)')\n",
    "\n",
    "# Converting the column into a integer type one:\n",
    "stage_data['time'] = pd.to_numeric(stage_data['time'],downcast='integer')\n"
   ]
  },
  {
   "cell_type": "markdown",
   "metadata": {},
   "source": [
    "Focusing on `stage_data['stage_results_id']`"
   ]
  },
  {
   "cell_type": "code",
   "execution_count": 251,
   "metadata": {},
   "outputs": [
    {
     "data": {
      "text/plain": [
       "array(['stage-1', 'stage-2', 'stage-3', 'stage-4', 'stage-5', 'stage-6',\n",
       "       'stage-7', 'stage-8', 'stage-9', 'stage-10', 'stage-11',\n",
       "       'stage-12', 'stage-13', 'stage-14', 'stage-15', 'stage-16',\n",
       "       'stage-17', 'stage-18', 'stage-19', 'stage-20', 'stage-21',\n",
       "       'stage-22', 'stage-21a', 'stage-21b', 'stage-5a', 'stage-5b',\n",
       "       'stage-13a', 'stage-13b', 'stage-14a', 'stage-14b', 'stage-18a',\n",
       "       'stage-18b', 'stage-19a', 'stage-19b', 'stage-20a', 'stage-20b',\n",
       "       'stage-11a', 'stage-11b', 'stage-12a', 'stage-12b', 'stage-17a',\n",
       "       'stage-17b', 'stage-4a', 'stage-4b', 'stage-6a', 'stage-6b',\n",
       "       'stage-10a', 'stage-10b', 'stage-2a', 'stage-2b', 'stage-8a',\n",
       "       'stage-8b', 'stage-16a', 'stage-16b', 'stage-1a', 'stage-1b',\n",
       "       'stage-3a', 'stage-3b', 'stage-15a', 'stage-15b', 'stage-22a',\n",
       "       'stage-22b', 'stage-0', 'stage-7a', 'stage-7b', 'stage-9a',\n",
       "       'stage-9b'], dtype=object)"
      ]
     },
     "execution_count": 251,
     "metadata": {},
     "output_type": "execute_result"
    }
   ],
   "source": [
    "stage_data['stage_results_id'].unique()"
   ]
  },
  {
   "cell_type": "markdown",
   "metadata": {},
   "source": [
    "It seems that there are several stage ids and it is also divided into different sections, (a,b,c). <br>\n",
    "We can divide this column into two columns. One column will contain the numerical part and the other will contain the section (a,b,c) part. We can do this with **regex**."
   ]
  },
  {
   "cell_type": "code",
   "execution_count": 259,
   "metadata": {},
   "outputs": [],
   "source": [
    "# Creating separate column for numeric part:\n",
    "stage_data['stage_results_id_numeric'] = stage_data['stage_results_id'].str.extract(r'(\\d+)')"
   ]
  },
  {
   "cell_type": "code",
   "execution_count": 265,
   "metadata": {},
   "outputs": [],
   "source": [
    "stage_data['stage_results_id_section'] = stage_data['stage_results_id'].str.extract(\"(a|b|c)$\")"
   ]
  },
  {
   "cell_type": "code",
   "execution_count": 374,
   "metadata": {},
   "outputs": [
    {
     "data": {
      "text/plain": [
       "array(['main', 'a', 'b'], dtype=object)"
      ]
     },
     "execution_count": 374,
     "metadata": {},
     "output_type": "execute_result"
    }
   ],
   "source": [
    "stage_data['stage_results_id_section'].unique()"
   ]
  },
  {
   "cell_type": "markdown",
   "metadata": {},
   "source": [
    "Replacing the *nan* values with 'main', I'll regard the stages with no sections with 'main' stage."
   ]
  },
  {
   "cell_type": "code",
   "execution_count": 271,
   "metadata": {},
   "outputs": [],
   "source": [
    "stage_data['stage_results_id_section'] = stage_data['stage_results_id_section'].replace(to_replace=np.nan,\n",
    "                                                                                        value='main')"
   ]
  },
  {
   "cell_type": "code",
   "execution_count": 272,
   "metadata": {},
   "outputs": [
    {
     "data": {
      "text/plain": [
       "array(['main', 'a', 'b'], dtype=object)"
      ]
     },
     "execution_count": 272,
     "metadata": {},
     "output_type": "execute_result"
    }
   ],
   "source": [
    "stage_data['stage_results_id_section'].unique()"
   ]
  },
  {
   "cell_type": "markdown",
   "metadata": {},
   "source": [
    "Dropping the `stage_results_id` column since we have extracted the data from it already."
   ]
  },
  {
   "cell_type": "code",
   "execution_count": 279,
   "metadata": {},
   "outputs": [],
   "source": [
    "stage_data = stage_data.drop('stage_results_id',axis=1)"
   ]
  },
  {
   "cell_type": "markdown",
   "metadata": {},
   "source": [
    "Checking if there are any columns with null values:"
   ]
  },
  {
   "cell_type": "code",
   "execution_count": 280,
   "metadata": {},
   "outputs": [
    {
     "data": {
      "text/plain": [
       "edition                          0\n",
       "year                             0\n",
       "rank                             0\n",
       "time                          5617\n",
       "rider                            0\n",
       "age                           3326\n",
       "team                         24043\n",
       "points                      222746\n",
       "elapsed                       5617\n",
       "bib_number                   23534\n",
       "stage_results_id_numeric         0\n",
       "stage_results_id_section         0\n",
       "dtype: int64"
      ]
     },
     "execution_count": 280,
     "metadata": {},
     "output_type": "execute_result"
    }
   ],
   "source": [
    "pd.isnull(stage_data).sum()"
   ]
  },
  {
   "cell_type": "code",
   "execution_count": 289,
   "metadata": {},
   "outputs": [
    {
     "data": {
      "text/plain": [
       "<matplotlib.axes._subplots.AxesSubplot at 0x23888f0c6a0>"
      ]
     },
     "execution_count": 289,
     "metadata": {},
     "output_type": "execute_result"
    },
    {
     "data": {
      "image/png": "[encoded data removed]",
      "text/plain": [
       "<Figure size 432x288 with 1 Axes>"
      ]
     },
     "metadata": {
      "needs_background": "light"
     },
     "output_type": "display_data"
    }
   ],
   "source": [
    "# plotting density plot for 'time'\n",
    "stage_data['time'].plot.kde()"
   ]
  },
  {
   "cell_type": "markdown",
   "metadata": {},
   "source": [
    "As the 'time' column is important, we can't simply omit it. <br> We can see that the numbers vary from 0 to 60 seconds. We can take the average value of the racers and substitute that in place of null values."
   ]
  },
  {
   "cell_type": "code",
   "execution_count": 331,
   "metadata": {},
   "outputs": [],
   "source": [
    "# Mean:\n",
    "m = stage_data['time'].mean()\n",
    "\n",
    "# Substituting the value in place of null values in 'time' column.\n",
    "stage_data['time'] = stage_data['time'].replace(np.nan,m)"
   ]
  },
  {
   "cell_type": "code",
   "execution_count": 333,
   "metadata": {},
   "outputs": [
    {
     "data": {
      "text/plain": [
       "0"
      ]
     },
     "execution_count": 333,
     "metadata": {},
     "output_type": "execute_result"
    }
   ],
   "source": [
    "np.isnan(stage_data['time']).sum()"
   ]
  },
  {
   "cell_type": "markdown",
   "metadata": {},
   "source": [
    "**We have successfully removed null values from the `time` column**. <br> We can move to `age` column."
   ]
  },
  {
   "cell_type": "code",
   "execution_count": 344,
   "metadata": {},
   "outputs": [
    {
     "data": {
      "image/png": "[encoded data removed]",
      "text/plain": [
       "<Figure size 432x288 with 1 Axes>"
      ]
     },
     "metadata": {
      "needs_background": "light"
     },
     "output_type": "display_data"
    }
   ],
   "source": [
    "plt.hist(x='age', data=stage_data, histtype='step',bins=30,label='Data')\n",
    "plt.xlabel('Age')\n",
    "plt.ylabel('Count')\n",
    "plt.legend()\n",
    "plt.show()"
   ]
  },
  {
   "cell_type": "markdown",
   "metadata": {},
   "source": [
    "We see that this data is approximately poisson or gamma.\n",
    "https://www.datacamp.com/community/tutorials/probability-distributions-python"
   ]
  },
  {
   "cell_type": "code",
   "execution_count": 391,
   "metadata": {},
   "outputs": [
    {
     "data": {
      "image/png": "[encoded data removed]",
      "text/plain": [
       "<Figure size 432x288 with 1 Axes>"
      ]
     },
     "metadata": {
      "needs_background": "light"
     },
     "output_type": "display_data"
    }
   ],
   "source": [
    "# random poisson distribution:\n",
    "size = 300000\n",
    "poisson_dist_age = np.random.poisson(lam=stage_data['age'].mean(), size=size)\n",
    "gamma_dist_age = np.random.gamma(shape=stage_data['age'].mean(), size=size)\n",
    "normal_dist_age = np.random.normal(loc=stage_data['age'].mean(), scale=stage_data['age'].std(),size=size)\n",
    "\n",
    "plt.hist(x='age', data=stage_data, histtype='step',bins=30,label='Data',density=True)\n",
    "plt.hist(poisson_dist_age,label='Poisson Distribution',histtype='step',bins=30,density=True)\n",
    "plt.hist(gamma_dist_age,histtype='step',label='Gamma distribution',bins=30,density=True)\n",
    "plt.hist(normal_dist_age,histtype='step',label='Normal distribution',bins=30,density=True)\n",
    "plt.xlabel('Age')\n",
    "plt.ylabel('Count')\n",
    "plt.legend()\n",
    "plt.show()"
   ]
  },
  {
   "cell_type": "markdown",
   "metadata": {},
   "source": [
    "Normal distribution works best here, we can replace the null values in `age` column with the normally distributed values with,<br> $\\mu$ = mean of `age` <br>\n",
    "$\\sigma$ = standard deviation of `age`"
   ]
  },
  {
   "cell_type": "markdown",
   "metadata": {},
   "source": [
    "**Replacing the null values with normally distributed values**:"
   ]
  },
  {
   "cell_type": "code",
   "execution_count": 493,
   "metadata": {},
   "outputs": [
    {
     "name": "stdout",
     "output_type": "stream",
     "text": [
      "Number of null values (in `age`): 0\n"
     ]
    }
   ],
   "source": [
    "np.random.normal(loc=stage_data['age'].mean(), scale=stage_data['age'].std(),size=20)\n",
    "\n",
    "for i in range(len(stage_data)):\n",
    "    # check if the ith element in `age` row is a null value\n",
    "    if pd.isna(stage_data.loc[i,'age']):\n",
    "        # replace the null value with a number which follows a normal distribution: \n",
    "        stage_data.loc[i,'age'] = np.random.normal(loc=stage_data['age'].mean(),\n",
    "                                                scale=stage_data['age'].std(),\n",
    "                                                size=1)\n",
    "    else:\n",
    "        pass\n",
    "\n",
    "print(f\"Number of null values (in `age`): {pd.isnull(stage_data['age']).sum()}\")"
   ]
  },
  {
   "cell_type": "markdown",
   "metadata": {},
   "source": [
    "We have replaced null values from the `age` column. We can now move foward. We will check again on which columns have null values."
   ]
  },
  {
   "cell_type": "code",
   "execution_count": 449,
   "metadata": {},
   "outputs": [
    {
     "data": {
      "text/plain": [
       "edition                          0\n",
       "year                             0\n",
       "rank                             0\n",
       "time                             0\n",
       "rider                            0\n",
       "age                              0\n",
       "team                         24043\n",
       "points                      222746\n",
       "elapsed                       5617\n",
       "bib_number                   23534\n",
       "stage_results_id_numeric         0\n",
       "stage_results_id_section         0\n",
       "dtype: int64"
      ]
     },
     "execution_count": 449,
     "metadata": {},
     "output_type": "execute_result"
    }
   ],
   "source": [
    "pd.isnull(stage_data).sum()"
   ]
  },
  {
   "cell_type": "markdown",
   "metadata": {},
   "source": [
    "We will focus on `team`.\n",
    "https://github.com/rfordatascience/tidytuesday/blob/master/data/2020/2020-04-07/readme.md#:~:text=Team%20(NA%20if%20not%20on%20team)\n",
    "\n",
    "the document tells us that if the player is not in the team the value is given to be `NA` (null).\n",
    "We can replace this value with `\"No Team\"`"
   ]
  },
  {
   "cell_type": "code",
   "execution_count": 454,
   "metadata": {},
   "outputs": [],
   "source": [
    "stage_data['team'] = stage_data['team'].replace(np.nan,'No Team')"
   ]
  },
  {
   "cell_type": "code",
   "execution_count": 458,
   "metadata": {},
   "outputs": [
    {
     "data": {
      "text/plain": [
       "0"
      ]
     },
     "execution_count": 458,
     "metadata": {},
     "output_type": "execute_result"
    }
   ],
   "source": [
    "# checking if the null values have gone or not.\n",
    "pd.isnull(stage_data['team']).sum()"
   ]
  },
  {
   "cell_type": "markdown",
   "metadata": {},
   "source": [
    "We have successfully remove the null values from the `team` column in `stage_data` dataset and switched it to \"*No team*\""
   ]
  },
  {
   "cell_type": "markdown",
   "metadata": {},
   "source": [
    "We can move on to the next column which contains null values."
   ]
  },
  {
   "cell_type": "markdown",
   "metadata": {},
   "source": [
    "**`elapsed` column**"
   ]
  },
  {
   "cell_type": "code",
   "execution_count": 459,
   "metadata": {},
   "outputs": [
    {
     "data": {
      "text/plain": [
       "edition                          0\n",
       "year                             0\n",
       "rank                             0\n",
       "time                             0\n",
       "rider                            0\n",
       "age                              0\n",
       "team                             0\n",
       "points                      222746\n",
       "elapsed                       5617\n",
       "bib_number                   23534\n",
       "stage_results_id_numeric         0\n",
       "stage_results_id_section         0\n",
       "dtype: int64"
      ]
     },
     "execution_count": 459,
     "metadata": {},
     "output_type": "execute_result"
    }
   ],
   "source": [
    "pd.isnull(stage_data).sum()"
   ]
  },
  {
   "cell_type": "code",
   "execution_count": 466,
   "metadata": {},
   "outputs": [],
   "source": [
    "# applying the regular expression to the column time to remove only the numeric values in the column\n",
    "stage_data['elapsed']=stage_data['elapsed'].str.extract(r'(\\d+)')\n",
    "\n",
    "# Converting the column into a integer type one:\n",
    "stage_data['elapsed'] = pd.to_numeric(stage_data['elapsed'],downcast='integer')"
   ]
  },
  {
   "cell_type": "code",
   "execution_count": 467,
   "metadata": {},
   "outputs": [
    {
     "data": {
      "text/plain": [
       "(array([12806.,  8153.,  7804.,  8822.,  8828.,  7918.,  7498.,  8834.,\n",
       "         8347.,  7759.,  8404.,  7367.,  7786.,  7457.,  7453.,  8369.,\n",
       "         8987.,  7778.,  9374.,  8161.,  7111.,  8633.,  8787.,  8105.,\n",
       "         7924.,  9726.,  8397.,  7484.,  7857.,  8206.]),\n",
       " array([ 0.        ,  1.96666667,  3.93333333,  5.9       ,  7.86666667,\n",
       "         9.83333333, 11.8       , 13.76666667, 15.73333333, 17.7       ,\n",
       "        19.66666667, 21.63333333, 23.6       , 25.56666667, 27.53333333,\n",
       "        29.5       , 31.46666667, 33.43333333, 35.4       , 37.36666667,\n",
       "        39.33333333, 41.3       , 43.26666667, 45.23333333, 47.2       ,\n",
       "        49.16666667, 51.13333333, 53.1       , 55.06666667, 57.03333333,\n",
       "        59.        ]),\n",
       " <a list of 30 Patch objects>)"
      ]
     },
     "execution_count": 467,
     "metadata": {},
     "output_type": "execute_result"
    },
    {
     "data": {
      "image/png": "[encoded data removed]",
      "text/plain": [
       "<Figure size 432x288 with 1 Axes>"
      ]
     },
     "metadata": {
      "needs_background": "light"
     },
     "output_type": "display_data"
    }
   ],
   "source": [
    "plt.hist(stage_data['elapsed'],bins=30)"
   ]
  },
  {
   "cell_type": "markdown",
   "metadata": {},
   "source": [
    "The data seems fairly **uniform** in nature. We can find the mean of the values in `elapsed` column like we did for the `time` column and substitute it in place of null values."
   ]
  },
  {
   "cell_type": "code",
   "execution_count": 468,
   "metadata": {},
   "outputs": [],
   "source": [
    "# Mean\n",
    "m = stage_data['elapsed'].mean() #seconds\n",
    "\n",
    "# substituting it in place of null values:\n",
    "stage_data['elapsed'] = stage_data['elapsed'].replace(np.nan,m)"
   ]
  },
  {
   "cell_type": "code",
   "execution_count": 469,
   "metadata": {},
   "outputs": [
    {
     "data": {
      "text/plain": [
       "0"
      ]
     },
     "execution_count": 469,
     "metadata": {},
     "output_type": "execute_result"
    }
   ],
   "source": [
    "# Checking if the null values are gone or not.\n",
    "pd.isnull(stage_data['elapsed']).sum()"
   ]
  },
  {
   "cell_type": "markdown",
   "metadata": {},
   "source": [
    "We are done with `elapsed` column. Moving on to other columns."
   ]
  },
  {
   "cell_type": "markdown",
   "metadata": {},
   "source": [
    "Checking columns containing null values."
   ]
  },
  {
   "cell_type": "code",
   "execution_count": 470,
   "metadata": {},
   "outputs": [
    {
     "data": {
      "text/plain": [
       "edition                          0\n",
       "year                             0\n",
       "rank                             0\n",
       "time                             0\n",
       "rider                            0\n",
       "age                              0\n",
       "team                             0\n",
       "points                      222746\n",
       "elapsed                          0\n",
       "bib_number                   23534\n",
       "stage_results_id_numeric         0\n",
       "stage_results_id_section         0\n",
       "dtype: int64"
      ]
     },
     "execution_count": 470,
     "metadata": {},
     "output_type": "execute_result"
    }
   ],
   "source": [
    "pd.isnull(stage_data).sum()"
   ]
  },
  {
   "cell_type": "markdown",
   "metadata": {},
   "source": [
    "Removing the `points` column, since there are too many missing values.\n"
   ]
  },
  {
   "cell_type": "code",
   "execution_count": 483,
   "metadata": {},
   "outputs": [],
   "source": [
    "# Re-assigning the dataframe\n",
    "stage_data = stage_data.drop(labels='points',axis=1)"
   ]
  },
  {
   "cell_type": "code",
   "execution_count": 484,
   "metadata": {},
   "outputs": [
    {
     "data": {
      "text/plain": [
       "edition                         0\n",
       "year                            0\n",
       "rank                            0\n",
       "time                            0\n",
       "rider                           0\n",
       "age                             0\n",
       "team                            0\n",
       "elapsed                         0\n",
       "bib_number                  23534\n",
       "stage_results_id_numeric        0\n",
       "stage_results_id_section        0\n",
       "dtype: int64"
      ]
     },
     "execution_count": 484,
     "metadata": {},
     "output_type": "execute_result"
    }
   ],
   "source": [
    "pd.isnull(stage_data).sum()"
   ]
  },
  {
   "cell_type": "code",
   "execution_count": 494,
   "metadata": {},
   "outputs": [
    {
     "data": {
      "image/png": "[encoded data removed]",
      "text/plain": [
       "<Figure size 432x288 with 1 Axes>"
      ]
     },
     "metadata": {
      "needs_background": "light"
     },
     "output_type": "display_data"
    }
   ],
   "source": [
    "plt.hist(stage_data['bib_number'],histtype='step',label='Data',bins=30)\n",
    "\n",
    "# Plotting an exponential random sample with rate = 1/(mean(bib_number))\n",
    "plt.hist(np.random.exponential(stage_data['bib_number'].mean(),\n",
    "                               size=len(stage_data)),\n",
    "         histtype='step',\n",
    "         label='Exponential Distribution',\n",
    "        bins=30)\n",
    "\n",
    "plt.xlabel('bib_number')\n",
    "plt.ylabel('Count')\n",
    "plt.legend()\n",
    "plt.show()"
   ]
  },
  {
   "cell_type": "markdown",
   "metadata": {},
   "source": [
    "We can replace the null value of the `bib_number` with random numbers following this exponential distribution."
   ]
  },
  {
   "cell_type": "code",
   "execution_count": 495,
   "metadata": {},
   "outputs": [
    {
     "name": "stdout",
     "output_type": "stream",
     "text": [
      "Number of null values (in `bib_number`): 0\n"
     ]
    }
   ],
   "source": [
    "for i in range(len(stage_data)):\n",
    "    # check if the ith element in `age` row is a null value\n",
    "    if pd.isna(stage_data.loc[i,'bib_number']):\n",
    "        # replace the null value with a number which follows a exponential distribution: \n",
    "        stage_data.loc[i,'bib_number'] = np.random.exponential(stage_data['bib_number'].mean(),\n",
    "                                                               size=1)\n",
    "    else:\n",
    "        pass\n",
    "\n",
    "print(f\"Number of null values (in `bib_number`): {pd.isnull(stage_data['bib_number']).sum()}\")"
   ]
  },
  {
   "cell_type": "code",
   "execution_count": 496,
   "metadata": {},
   "outputs": [
    {
     "data": {
      "text/plain": [
       "edition                     0\n",
       "year                        0\n",
       "rank                        0\n",
       "time                        0\n",
       "rider                       0\n",
       "age                         0\n",
       "team                        0\n",
       "elapsed                     0\n",
       "bib_number                  0\n",
       "stage_results_id_numeric    0\n",
       "stage_results_id_section    0\n",
       "dtype: int64"
      ]
     },
     "execution_count": 496,
     "metadata": {},
     "output_type": "execute_result"
    }
   ],
   "source": [
    "pd.isnull(stage_data).sum()"
   ]
  },
  {
   "cell_type": "markdown",
   "metadata": {},
   "source": [
    "#### Saving the cleaned stage_date csv:"
   ]
  },
  {
   "cell_type": "code",
   "execution_count": 497,
   "metadata": {},
   "outputs": [],
   "source": [
    "# stage_data.to_csv('CLEANED_stage_data.csv')"
   ]
  },
  {
   "cell_type": "markdown",
   "metadata": {},
   "source": [
    "### Cleaning tdf_winners"
   ]
  },
  {
   "cell_type": "code",
   "execution_count": 508,
   "metadata": {},
   "outputs": [
    {
     "data": {
      "text/plain": [
       "edition           0\n",
       "start_date        0\n",
       "winner_name       0\n",
       "winner_team       0\n",
       "distance          0\n",
       "time_overall      8\n",
       "time_margin       8\n",
       "stage_wins        0\n",
       "stages_led        0\n",
       "height           40\n",
       "weight           39\n",
       "age               0\n",
       "born              0\n",
       "died             50\n",
       "full_name        60\n",
       "nickname         32\n",
       "birth_town        0\n",
       "birth_country     0\n",
       "nationality       0\n",
       "dtype: int64"
      ]
     },
     "execution_count": 508,
     "metadata": {},
     "output_type": "execute_result"
    }
   ],
   "source": [
    "pd.isnull(tdf_winners).sum()"
   ]
  },
  {
   "cell_type": "markdown",
   "metadata": {},
   "source": [
    "Plotting the the `height` column and seeing how it is distributed."
   ]
  },
  {
   "cell_type": "code",
   "execution_count": 553,
   "metadata": {},
   "outputs": [
    {
     "data": {
      "image/png": "[encoded data removed]",
      "text/plain": [
       "<Figure size 2000x800 with 2 Axes>"
      ]
     },
     "metadata": {
      "needs_background": "light"
     },
     "output_type": "display_data"
    }
   ],
   "source": [
    "fig,ax = plt.subplots(1,2,figsize=(10,4),dpi=200)\n",
    "# fig.figsize(10,5)\n",
    "ax[0].hist(tdf_winners['height'],histtype='step',alpha=0.8,bins=15)\n",
    "ax[0].set_xlabel('Height')\n",
    "ax[0].set_ylabel('Count')\n",
    "\n",
    "ax[1].hist(tdf_winners['weight'],histtype='step',alpha=0.8, bins=15)\n",
    "ax[1].set_xlabel('Weight')\n",
    "ax[1].set_ylabel('Count')\n",
    "plt.show()"
   ]
  },
  {
   "cell_type": "markdown",
   "metadata": {},
   "source": [
    "The data looks like it can be approximated with a normal distribution.<br>\n",
    "We can substitute the null values in `height` and `weight` with truncated normal distribution. "
   ]
  },
  {
   "cell_type": "code",
   "execution_count": 554,
   "metadata": {},
   "outputs": [],
   "source": [
    "# Truncating the normal distribution:\n",
    "def truncated_normal(mean, std, size,  min_, max_):\n",
    "    \"\"\"\n",
    "    Returns a truncated normal distribution\"\"\"\n",
    "    return np.clip(np.random.normal(loc = mean, scale = std, size=size),min_, max_)"
   ]
  },
  {
   "cell_type": "code",
   "execution_count": 565,
   "metadata": {},
   "outputs": [
    {
     "data": {
      "image/png": "[encoded data removed]",
      "text/plain": [
       "<Figure size 2000x800 with 2 Axes>"
      ]
     },
     "metadata": {
      "needs_background": "light"
     },
     "output_type": "display_data"
    }
   ],
   "source": [
    "fig,ax = plt.subplots(1,2,figsize=(10,4),dpi=200,sharey=True)\n",
    "\n",
    "\n",
    "ax[0].hist(tdf_winners['height'],bins=50,histtype='step',label='Data (height)')\n",
    "ax[0].hist(truncated_normal(mean=tdf_winners['height'].mean(),std=tdf_winners['height'].std(),\n",
    "                          size=len(tdf_winners),\n",
    "                         min_=tdf_winners['height'].min(),\n",
    "                         max_=tdf_winners['height'].max()),\n",
    "        histtype='step',\n",
    "        bins=50,\n",
    "        label='Normal Distribution')\n",
    "ax[0].set_xlabel('Height')\n",
    "ax[0].set_ylabel('Count')\n",
    "ax[0].legend()\n",
    "ax[1].hist(tdf_winners['weight'],bins=50,histtype='step',label='Data (Weight)')\n",
    "ax[1].hist(truncated_normal(mean=tdf_winners['weight'].mean(),std=tdf_winners['weight'].std(),\n",
    "                          size=len(tdf_winners),\n",
    "                         min_=tdf_winners['weight'].min(),\n",
    "                         max_=tdf_winners['weight'].max()),\n",
    "        histtype='step',\n",
    "        bins=50,\n",
    "        label='Normal Distribution')\n",
    "\n",
    "ax[1].set_xlabel('Weight')\n",
    "\n",
    "ax[1].legend()\n",
    "plt.show()"
   ]
  },
  {
   "cell_type": "code",
   "execution_count": 566,
   "metadata": {},
   "outputs": [
    {
     "name": "stdout",
     "output_type": "stream",
     "text": [
      "Number of null values (in `height`): 0\n"
     ]
    }
   ],
   "source": [
    "# Substituting null values with these normally distributed values.\n",
    "for i in range(len(tdf_winners)):\n",
    "    # check if the ith element in `height` row is a null value\n",
    "    if pd.isna(tdf_winners.loc[i,'height']):\n",
    "        # replace the null value with a number which follows a normal distribution: \n",
    "        tdf_winners.loc[i,'height'] = truncated_normal(mean=tdf_winners['height'].mean(),\n",
    "                                                       std=tdf_winners['height'].std(),\n",
    "                                                       size=1,\n",
    "                                                       min_=tdf_winners['height'].min(),\n",
    "                                                       max_=tdf_winners['height'].max())\n",
    "    else:\n",
    "        pass\n",
    "\n",
    "print(f\"Number of null values (in `height`): {pd.isnull(tdf_winners['height']).sum()}\")"
   ]
  },
  {
   "cell_type": "code",
   "execution_count": 567,
   "metadata": {},
   "outputs": [
    {
     "name": "stdout",
     "output_type": "stream",
     "text": [
      "Number of null values (in `weight`): 0\n"
     ]
    }
   ],
   "source": [
    "# Substituting null values with these normally distributed values.\n",
    "for i in range(len(tdf_winners)):\n",
    "    # check if the ith element in `weight` row is a null value\n",
    "    if pd.isna(tdf_winners.loc[i,'weight']):\n",
    "        # replace the null value with a number which follows a normal distribution: \n",
    "        tdf_winners.loc[i,'weight'] = truncated_normal(mean=tdf_winners['weight'].mean(),\n",
    "                                                       std=tdf_winners['weight'].std(),\n",
    "                                                       size=1,\n",
    "                                                       min_=tdf_winners['weight'].min(),\n",
    "                                                       max_=tdf_winners['weight'].max())\n",
    "    else:\n",
    "        pass\n",
    "\n",
    "print(f\"Number of null values (in `weight`): {pd.isnull(tdf_winners['weight']).sum()}\")"
   ]
  },
  {
   "cell_type": "markdown",
   "metadata": {},
   "source": [
    "We have removed null values from `height` and `weight` columns."
   ]
  },
  {
   "cell_type": "code",
   "execution_count": 571,
   "metadata": {},
   "outputs": [
    {
     "data": {
      "text/plain": [
       "edition           0\n",
       "start_date        0\n",
       "winner_name       0\n",
       "winner_team       0\n",
       "distance          0\n",
       "time_overall      8\n",
       "time_margin       8\n",
       "stage_wins        0\n",
       "stages_led        0\n",
       "height            0\n",
       "weight            0\n",
       "age               0\n",
       "born              0\n",
       "died             50\n",
       "full_name        60\n",
       "nickname         32\n",
       "birth_town        0\n",
       "birth_country     0\n",
       "nationality       0\n",
       "dtype: int64"
      ]
     },
     "execution_count": 571,
     "metadata": {},
     "output_type": "execute_result"
    }
   ],
   "source": [
    "pd.isnull(tdf_winners).sum()"
   ]
  },
  {
   "cell_type": "markdown",
   "metadata": {},
   "source": [
    "### Dropping not so useful columns:"
   ]
  },
  {
   "cell_type": "code",
   "execution_count": 592,
   "metadata": {},
   "outputs": [],
   "source": [
    "tdf_winners = tdf_winners.drop(labels=['nickname','full_name','died'],axis=1)"
   ]
  },
  {
   "cell_type": "code",
   "execution_count": 593,
   "metadata": {},
   "outputs": [
    {
     "data": {
      "text/plain": [
       "edition          0\n",
       "start_date       0\n",
       "winner_name      0\n",
       "winner_team      0\n",
       "distance         0\n",
       "time_overall     8\n",
       "time_margin      8\n",
       "stage_wins       0\n",
       "stages_led       0\n",
       "height           0\n",
       "weight           0\n",
       "age              0\n",
       "born             0\n",
       "birth_town       0\n",
       "birth_country    0\n",
       "nationality      0\n",
       "dtype: int64"
      ]
     },
     "execution_count": 593,
     "metadata": {},
     "output_type": "execute_result"
    }
   ],
   "source": [
    "pd.isnull(tdf_winners).sum()"
   ]
  },
  {
   "cell_type": "code",
   "execution_count": 604,
   "metadata": {},
   "outputs": [
    {
     "data": {
      "text/plain": [
       "edition        -0.819670\n",
       "weight         -0.051982\n",
       "height          0.005855\n",
       "stages_led      0.058961\n",
       "stage_wins      0.069780\n",
       "age             0.163023\n",
       "time_margin     0.424676\n",
       "distance        0.930210\n",
       "time_overall    1.000000\n",
       "Name: time_overall, dtype: float64"
      ]
     },
     "execution_count": 604,
     "metadata": {},
     "output_type": "execute_result"
    }
   ],
   "source": [
    "tdf_winners.corr()['time_overall'].sort_values()"
   ]
  },
  {
   "cell_type": "code",
   "execution_count": 606,
   "metadata": {},
   "outputs": [
    {
     "data": {
      "text/plain": [
       "edition        -0.587404\n",
       "height         -0.160258\n",
       "weight         -0.092943\n",
       "stages_led     -0.039974\n",
       "stage_wins      0.085307\n",
       "age             0.101279\n",
       "distance        0.166759\n",
       "time_overall    0.424676\n",
       "time_margin     1.000000\n",
       "Name: time_margin, dtype: float64"
      ]
     },
     "execution_count": 606,
     "metadata": {},
     "output_type": "execute_result"
    }
   ],
   "source": [
    "tdf_winners.corr()['time_margin'].sort_values()"
   ]
  },
  {
   "cell_type": "markdown",
   "metadata": {},
   "source": [
    "We can set up a linear model between `distance` and `time_overall` since the R *(correlation coefficient)* value is high.<br>\n",
    "Similarly, we can set a linear model between `time_margin` and (`time_overall` or `edition`).\n",
    "\n",
    "**We will do this in R**"
   ]
  },
  {
   "cell_type": "markdown",
   "metadata": {},
   "source": [
    "## Note: Will convert the code to R now"
   ]
  }
 ],
 "metadata": {
  "kernelspec": {
   "display_name": "Python 3",
   "language": "python",
   "name": "python3"
  },
  "language_info": {
   "codemirror_mode": {
    "name": "ipython",
    "version": 3
   },
   "file_extension": ".py",
   "mimetype": "text/x-python",
   "name": "python",
   "nbconvert_exporter": "python",
   "pygments_lexer": "ipython3",
   "version": "3.8.0"
  }
 },
 "nbformat": 4,
 "nbformat_minor": 4
}
